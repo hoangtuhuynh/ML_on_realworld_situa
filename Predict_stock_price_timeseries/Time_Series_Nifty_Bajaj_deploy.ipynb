{
  "cells": [
    {
      "cell_type": "markdown",
      "metadata": {
        "id": "-GJX7UT1whQP"
      },
      "source": [
        "### Reading the market data of BAJAJFINSV stock and preparing a training dataset and validation dataset."
      ]
    },
    {
      "cell_type": "code",
      "execution_count": 72,
      "metadata": {
        "id": "VLX_gDS2whQS"
      },
      "outputs": [],
      "source": [
        "import pandas as pd\n",
        "import numpy as np"
      ]
    },
    {
      "cell_type": "code",
      "execution_count": 73,
      "metadata": {
        "id": "P5kW2UBYwhQT",
        "outputId": "bd06e664-fad8-4743-b65b-ab7bf87db99b"
      },
      "outputs": [
        {
          "data": {
            "text/html": [
              "<div>\n",
              "<style scoped>\n",
              "    .dataframe tbody tr th:only-of-type {\n",
              "        vertical-align: middle;\n",
              "    }\n",
              "\n",
              "    .dataframe tbody tr th {\n",
              "        vertical-align: top;\n",
              "    }\n",
              "\n",
              "    .dataframe thead th {\n",
              "        text-align: right;\n",
              "    }\n",
              "</style>\n",
              "<table border=\"1\" class=\"dataframe\">\n",
              "  <thead>\n",
              "    <tr style=\"text-align: right;\">\n",
              "      <th></th>\n",
              "      <th>Date</th>\n",
              "      <th>Symbol</th>\n",
              "      <th>Series</th>\n",
              "      <th>Prev Close</th>\n",
              "      <th>Open</th>\n",
              "      <th>High</th>\n",
              "      <th>Low</th>\n",
              "      <th>Last</th>\n",
              "      <th>Close</th>\n",
              "      <th>VWAP</th>\n",
              "      <th>Volume</th>\n",
              "      <th>Turnover</th>\n",
              "      <th>Trades</th>\n",
              "      <th>Deliverable Volume</th>\n",
              "      <th>%Deliverble</th>\n",
              "    </tr>\n",
              "  </thead>\n",
              "  <tbody>\n",
              "    <tr>\n",
              "      <th>0</th>\n",
              "      <td>2000-01-03</td>\n",
              "      <td>BAJAUTOFIN</td>\n",
              "      <td>EQ</td>\n",
              "      <td>46.95</td>\n",
              "      <td>49.45</td>\n",
              "      <td>50.75</td>\n",
              "      <td>46.5</td>\n",
              "      <td>50.75</td>\n",
              "      <td>50.75</td>\n",
              "      <td>50.05</td>\n",
              "      <td>7600</td>\n",
              "      <td>3.803800e+10</td>\n",
              "      <td>NaN</td>\n",
              "      <td>NaN</td>\n",
              "      <td>NaN</td>\n",
              "    </tr>\n",
              "    <tr>\n",
              "      <th>1</th>\n",
              "      <td>2000-01-04</td>\n",
              "      <td>BAJAUTOFIN</td>\n",
              "      <td>EQ</td>\n",
              "      <td>50.75</td>\n",
              "      <td>53.20</td>\n",
              "      <td>53.20</td>\n",
              "      <td>47.9</td>\n",
              "      <td>48.00</td>\n",
              "      <td>48.10</td>\n",
              "      <td>48.56</td>\n",
              "      <td>5000</td>\n",
              "      <td>2.428000e+10</td>\n",
              "      <td>NaN</td>\n",
              "      <td>NaN</td>\n",
              "      <td>NaN</td>\n",
              "    </tr>\n",
              "    <tr>\n",
              "      <th>2</th>\n",
              "      <td>2000-01-05</td>\n",
              "      <td>BAJAUTOFIN</td>\n",
              "      <td>EQ</td>\n",
              "      <td>48.10</td>\n",
              "      <td>46.55</td>\n",
              "      <td>47.40</td>\n",
              "      <td>44.6</td>\n",
              "      <td>44.60</td>\n",
              "      <td>44.60</td>\n",
              "      <td>45.47</td>\n",
              "      <td>3500</td>\n",
              "      <td>1.591450e+10</td>\n",
              "      <td>NaN</td>\n",
              "      <td>NaN</td>\n",
              "      <td>NaN</td>\n",
              "    </tr>\n",
              "    <tr>\n",
              "      <th>3</th>\n",
              "      <td>2000-01-06</td>\n",
              "      <td>BAJAUTOFIN</td>\n",
              "      <td>EQ</td>\n",
              "      <td>44.60</td>\n",
              "      <td>43.50</td>\n",
              "      <td>46.00</td>\n",
              "      <td>42.1</td>\n",
              "      <td>46.00</td>\n",
              "      <td>45.25</td>\n",
              "      <td>44.43</td>\n",
              "      <td>6200</td>\n",
              "      <td>2.754750e+10</td>\n",
              "      <td>NaN</td>\n",
              "      <td>NaN</td>\n",
              "      <td>NaN</td>\n",
              "    </tr>\n",
              "    <tr>\n",
              "      <th>4</th>\n",
              "      <td>2000-01-07</td>\n",
              "      <td>BAJAUTOFIN</td>\n",
              "      <td>EQ</td>\n",
              "      <td>45.25</td>\n",
              "      <td>48.00</td>\n",
              "      <td>48.00</td>\n",
              "      <td>42.0</td>\n",
              "      <td>42.90</td>\n",
              "      <td>42.90</td>\n",
              "      <td>44.44</td>\n",
              "      <td>3500</td>\n",
              "      <td>1.555550e+10</td>\n",
              "      <td>NaN</td>\n",
              "      <td>NaN</td>\n",
              "      <td>NaN</td>\n",
              "    </tr>\n",
              "  </tbody>\n",
              "</table>\n",
              "</div>"
            ],
            "text/plain": [
              "         Date      Symbol Series  Prev Close   Open   High   Low   Last  \\\n",
              "0  2000-01-03  BAJAUTOFIN     EQ       46.95  49.45  50.75  46.5  50.75   \n",
              "1  2000-01-04  BAJAUTOFIN     EQ       50.75  53.20  53.20  47.9  48.00   \n",
              "2  2000-01-05  BAJAUTOFIN     EQ       48.10  46.55  47.40  44.6  44.60   \n",
              "3  2000-01-06  BAJAUTOFIN     EQ       44.60  43.50  46.00  42.1  46.00   \n",
              "4  2000-01-07  BAJAUTOFIN     EQ       45.25  48.00  48.00  42.0  42.90   \n",
              "\n",
              "   Close   VWAP  Volume      Turnover  Trades  Deliverable Volume  %Deliverble  \n",
              "0  50.75  50.05    7600  3.803800e+10     NaN                 NaN          NaN  \n",
              "1  48.10  48.56    5000  2.428000e+10     NaN                 NaN          NaN  \n",
              "2  44.60  45.47    3500  1.591450e+10     NaN                 NaN          NaN  \n",
              "3  45.25  44.43    6200  2.754750e+10     NaN                 NaN          NaN  \n",
              "4  42.90  44.44    3500  1.555550e+10     NaN                 NaN          NaN  "
            ]
          },
          "execution_count": 73,
          "metadata": {},
          "output_type": "execute_result"
        }
      ],
      "source": [
        "df=pd.read_csv('BAJFINANCE.csv')\n",
        "df.head()"
      ]
    },
    {
      "cell_type": "code",
      "execution_count": 74,
      "metadata": {
        "id": "mJpskPmMwhQU"
      },
      "outputs": [],
      "source": [
        "df.set_index('Date',inplace=True)"
      ]
    },
    {
      "cell_type": "code",
      "execution_count": 75,
      "metadata": {
        "id": "pRqCy0WRwhQU"
      },
      "outputs": [
        {
          "data": {
            "text/html": [
              "<div>\n",
              "<style scoped>\n",
              "    .dataframe tbody tr th:only-of-type {\n",
              "        vertical-align: middle;\n",
              "    }\n",
              "\n",
              "    .dataframe tbody tr th {\n",
              "        vertical-align: top;\n",
              "    }\n",
              "\n",
              "    .dataframe thead th {\n",
              "        text-align: right;\n",
              "    }\n",
              "</style>\n",
              "<table border=\"1\" class=\"dataframe\">\n",
              "  <thead>\n",
              "    <tr style=\"text-align: right;\">\n",
              "      <th></th>\n",
              "      <th>Symbol</th>\n",
              "      <th>Series</th>\n",
              "      <th>Prev Close</th>\n",
              "      <th>Open</th>\n",
              "      <th>High</th>\n",
              "      <th>Low</th>\n",
              "      <th>Last</th>\n",
              "      <th>Close</th>\n",
              "      <th>VWAP</th>\n",
              "      <th>Volume</th>\n",
              "      <th>Turnover</th>\n",
              "      <th>Trades</th>\n",
              "      <th>Deliverable Volume</th>\n",
              "      <th>%Deliverble</th>\n",
              "    </tr>\n",
              "    <tr>\n",
              "      <th>Date</th>\n",
              "      <th></th>\n",
              "      <th></th>\n",
              "      <th></th>\n",
              "      <th></th>\n",
              "      <th></th>\n",
              "      <th></th>\n",
              "      <th></th>\n",
              "      <th></th>\n",
              "      <th></th>\n",
              "      <th></th>\n",
              "      <th></th>\n",
              "      <th></th>\n",
              "      <th></th>\n",
              "      <th></th>\n",
              "    </tr>\n",
              "  </thead>\n",
              "  <tbody>\n",
              "    <tr>\n",
              "      <th>2000-01-03</th>\n",
              "      <td>BAJAUTOFIN</td>\n",
              "      <td>EQ</td>\n",
              "      <td>46.95</td>\n",
              "      <td>49.45</td>\n",
              "      <td>50.75</td>\n",
              "      <td>46.5</td>\n",
              "      <td>50.75</td>\n",
              "      <td>50.75</td>\n",
              "      <td>50.05</td>\n",
              "      <td>7600</td>\n",
              "      <td>3.803800e+10</td>\n",
              "      <td>NaN</td>\n",
              "      <td>NaN</td>\n",
              "      <td>NaN</td>\n",
              "    </tr>\n",
              "    <tr>\n",
              "      <th>2000-01-04</th>\n",
              "      <td>BAJAUTOFIN</td>\n",
              "      <td>EQ</td>\n",
              "      <td>50.75</td>\n",
              "      <td>53.20</td>\n",
              "      <td>53.20</td>\n",
              "      <td>47.9</td>\n",
              "      <td>48.00</td>\n",
              "      <td>48.10</td>\n",
              "      <td>48.56</td>\n",
              "      <td>5000</td>\n",
              "      <td>2.428000e+10</td>\n",
              "      <td>NaN</td>\n",
              "      <td>NaN</td>\n",
              "      <td>NaN</td>\n",
              "    </tr>\n",
              "    <tr>\n",
              "      <th>2000-01-05</th>\n",
              "      <td>BAJAUTOFIN</td>\n",
              "      <td>EQ</td>\n",
              "      <td>48.10</td>\n",
              "      <td>46.55</td>\n",
              "      <td>47.40</td>\n",
              "      <td>44.6</td>\n",
              "      <td>44.60</td>\n",
              "      <td>44.60</td>\n",
              "      <td>45.47</td>\n",
              "      <td>3500</td>\n",
              "      <td>1.591450e+10</td>\n",
              "      <td>NaN</td>\n",
              "      <td>NaN</td>\n",
              "      <td>NaN</td>\n",
              "    </tr>\n",
              "    <tr>\n",
              "      <th>2000-01-06</th>\n",
              "      <td>BAJAUTOFIN</td>\n",
              "      <td>EQ</td>\n",
              "      <td>44.60</td>\n",
              "      <td>43.50</td>\n",
              "      <td>46.00</td>\n",
              "      <td>42.1</td>\n",
              "      <td>46.00</td>\n",
              "      <td>45.25</td>\n",
              "      <td>44.43</td>\n",
              "      <td>6200</td>\n",
              "      <td>2.754750e+10</td>\n",
              "      <td>NaN</td>\n",
              "      <td>NaN</td>\n",
              "      <td>NaN</td>\n",
              "    </tr>\n",
              "    <tr>\n",
              "      <th>2000-01-07</th>\n",
              "      <td>BAJAUTOFIN</td>\n",
              "      <td>EQ</td>\n",
              "      <td>45.25</td>\n",
              "      <td>48.00</td>\n",
              "      <td>48.00</td>\n",
              "      <td>42.0</td>\n",
              "      <td>42.90</td>\n",
              "      <td>42.90</td>\n",
              "      <td>44.44</td>\n",
              "      <td>3500</td>\n",
              "      <td>1.555550e+10</td>\n",
              "      <td>NaN</td>\n",
              "      <td>NaN</td>\n",
              "      <td>NaN</td>\n",
              "    </tr>\n",
              "  </tbody>\n",
              "</table>\n",
              "</div>"
            ],
            "text/plain": [
              "                Symbol Series  Prev Close   Open   High   Low   Last  Close  \\\n",
              "Date                                                                          \n",
              "2000-01-03  BAJAUTOFIN     EQ       46.95  49.45  50.75  46.5  50.75  50.75   \n",
              "2000-01-04  BAJAUTOFIN     EQ       50.75  53.20  53.20  47.9  48.00  48.10   \n",
              "2000-01-05  BAJAUTOFIN     EQ       48.10  46.55  47.40  44.6  44.60  44.60   \n",
              "2000-01-06  BAJAUTOFIN     EQ       44.60  43.50  46.00  42.1  46.00  45.25   \n",
              "2000-01-07  BAJAUTOFIN     EQ       45.25  48.00  48.00  42.0  42.90  42.90   \n",
              "\n",
              "             VWAP  Volume      Turnover  Trades  Deliverable Volume  \\\n",
              "Date                                                                  \n",
              "2000-01-03  50.05    7600  3.803800e+10     NaN                 NaN   \n",
              "2000-01-04  48.56    5000  2.428000e+10     NaN                 NaN   \n",
              "2000-01-05  45.47    3500  1.591450e+10     NaN                 NaN   \n",
              "2000-01-06  44.43    6200  2.754750e+10     NaN                 NaN   \n",
              "2000-01-07  44.44    3500  1.555550e+10     NaN                 NaN   \n",
              "\n",
              "            %Deliverble  \n",
              "Date                     \n",
              "2000-01-03          NaN  \n",
              "2000-01-04          NaN  \n",
              "2000-01-05          NaN  \n",
              "2000-01-06          NaN  \n",
              "2000-01-07          NaN  "
            ]
          },
          "execution_count": 75,
          "metadata": {},
          "output_type": "execute_result"
        }
      ],
      "source": [
        "df.head()"
      ]
    },
    {
      "cell_type": "markdown",
      "metadata": {
        "id": "e7soWY07whQU"
      },
      "source": [
        "#### Plotting the target variable VWAP over time"
      ]
    },
    {
      "cell_type": "code",
      "execution_count": 76,
      "metadata": {
        "id": "zMxt-KgGwhQV",
        "outputId": "540dc20a-9f3e-42cb-b6a8-af5e0e76a733"
      },
      "outputs": [
        {
          "data": {
            "text/plain": [
              "<AxesSubplot: xlabel='Date'>"
            ]
          },
          "execution_count": 76,
          "metadata": {},
          "output_type": "execute_result"
        },
        {
          "data": {
            "image/png": "[encoded data removed]",
            "text/plain": [
              "<Figure size 640x480 with 1 Axes>"
            ]
          },
          "metadata": {},
          "output_type": "display_data"
        }
      ],
      "source": [
        "df['VWAP'].plot()"
      ]
    },
    {
      "cell_type": "markdown",
      "metadata": {
        "id": "ukIrwks8whQV"
      },
      "source": [
        "### so u can observe here some kind of Seasonality"
      ]
    },
    {
      "cell_type": "raw",
      "metadata": {
        "id": "2ZSuo5bawhQV"
      },
      "source": [
        "Feature Engineering\n",
        "Almost every time series problem will have some external features or some internal feature engineering to help the model.\n",
        "\n",
        "Let's add some basic features like lag values of available numeric features that are widely used for time series problems. Since we need to predict the price of the stock for a day, we cannot use the feature values of the same day since they will be unavailable at actual inference time. We need to use statistics like mean, standard deviation of their lagged values.\n",
        "\n",
        "We will use three sets of lagged values, one previous day, one looking back 7 days and another looking back 30 days as a proxy for last week and last month metrics."
      ]
    },
    {
      "cell_type": "markdown",
      "metadata": {
        "id": "U8tFO4wawhQW"
      },
      "source": [
        "### Data Pre-Processing"
      ]
    },
    {
      "cell_type": "code",
      "execution_count": 77,
      "metadata": {
        "id": "UtdtoMggwhQW",
        "outputId": "bee4e1ac-a9ff-4750-cac9-b8e42025cba7"
      },
      "outputs": [
        {
          "data": {
            "text/plain": [
              "(5070, 14)"
            ]
          },
          "execution_count": 77,
          "metadata": {},
          "output_type": "execute_result"
        }
      ],
      "source": [
        "df.shape"
      ]
    },
    {
      "cell_type": "code",
      "execution_count": 78,
      "metadata": {
        "id": "VGn1MJ8EwhQW",
        "outputId": "87d7ae7c-ef78-45ba-c8b5-108108169547"
      },
      "outputs": [
        {
          "data": {
            "text/plain": [
              "Symbol                   0\n",
              "Series                   0\n",
              "Prev Close               0\n",
              "Open                     0\n",
              "High                     0\n",
              "Low                      0\n",
              "Last                     0\n",
              "Close                    0\n",
              "VWAP                     0\n",
              "Volume                   0\n",
              "Turnover                 0\n",
              "Trades                2779\n",
              "Deliverable Volume     446\n",
              "%Deliverble            446\n",
              "dtype: int64"
            ]
          },
          "execution_count": 78,
          "metadata": {},
          "output_type": "execute_result"
        }
      ],
      "source": [
        "df.isna().sum()"
      ]
    },
    {
      "cell_type": "code",
      "execution_count": 79,
      "metadata": {
        "id": "LHQd6PTTwhQW"
      },
      "outputs": [],
      "source": [
        "df.dropna(inplace=True)"
      ]
    },
    {
      "cell_type": "code",
      "execution_count": 80,
      "metadata": {
        "id": "vzgMeIAYwhQX",
        "outputId": "7a7c1426-8183-4126-f08f-69ff7fc10758"
      },
      "outputs": [
        {
          "data": {
            "text/plain": [
              "Symbol                0\n",
              "Series                0\n",
              "Prev Close            0\n",
              "Open                  0\n",
              "High                  0\n",
              "Low                   0\n",
              "Last                  0\n",
              "Close                 0\n",
              "VWAP                  0\n",
              "Volume                0\n",
              "Turnover              0\n",
              "Trades                0\n",
              "Deliverable Volume    0\n",
              "%Deliverble           0\n",
              "dtype: int64"
            ]
          },
          "execution_count": 80,
          "metadata": {},
          "output_type": "execute_result"
        }
      ],
      "source": [
        "df.isna().sum()"
      ]
    },
    {
      "cell_type": "code",
      "execution_count": 81,
      "metadata": {
        "id": "kmuBVu2UwhQX",
        "outputId": "bc2f93d5-f45a-4d71-eac9-8f4f05b40e6a"
      },
      "outputs": [
        {
          "data": {
            "text/plain": [
              "(2291, 14)"
            ]
          },
          "execution_count": 81,
          "metadata": {},
          "output_type": "execute_result"
        }
      ],
      "source": [
        "df.shape"
      ]
    },
    {
      "cell_type": "code",
      "execution_count": 82,
      "metadata": {
        "id": "I23iEtkdwhQX"
      },
      "outputs": [],
      "source": [
        "data=df.copy()"
      ]
    },
    {
      "cell_type": "code",
      "execution_count": 83,
      "metadata": {
        "id": "ahmP_FBvwhQX",
        "outputId": "095465a9-930c-4586-dc59-d090f187f7ef"
      },
      "outputs": [
        {
          "data": {
            "text/plain": [
              "Symbol                 object\n",
              "Series                 object\n",
              "Prev Close            float64\n",
              "Open                  float64\n",
              "High                  float64\n",
              "Low                   float64\n",
              "Last                  float64\n",
              "Close                 float64\n",
              "VWAP                  float64\n",
              "Volume                  int64\n",
              "Turnover              float64\n",
              "Trades                float64\n",
              "Deliverable Volume    float64\n",
              "%Deliverble           float64\n",
              "dtype: object"
            ]
          },
          "execution_count": 83,
          "metadata": {},
          "output_type": "execute_result"
        }
      ],
      "source": [
        "data.dtypes"
      ]
    },
    {
      "cell_type": "code",
      "execution_count": 84,
      "metadata": {
        "id": "sDE8JrvSwhQX",
        "outputId": "49ec79ec-5210-4cf5-8844-eba4f0097808"
      },
      "outputs": [
        {
          "data": {
            "text/plain": [
              "Index(['Symbol', 'Series', 'Prev Close', 'Open', 'High', 'Low', 'Last',\n",
              "       'Close', 'VWAP', 'Volume', 'Turnover', 'Trades', 'Deliverable Volume',\n",
              "       '%Deliverble'],\n",
              "      dtype='object')"
            ]
          },
          "execution_count": 84,
          "metadata": {},
          "output_type": "execute_result"
        }
      ],
      "source": [
        "data.columns"
      ]
    },
    {
      "cell_type": "code",
      "execution_count": 85,
      "metadata": {
        "id": "ppedoIyswhQX"
      },
      "outputs": [],
      "source": [
        "lag_features=['High','Low','Volume','Turnover','Trades']\n",
        "window1=3\n",
        "window2=7"
      ]
    },
    {
      "cell_type": "code",
      "execution_count": 86,
      "metadata": {
        "id": "qDY_y8WrwhQY"
      },
      "outputs": [],
      "source": [
        "for feature in lag_features:\n",
        "    data[feature+'rolling_mean_3']=data[feature].rolling(window=window1).mean()\n",
        "    data[feature+'rolling_mean_7']=data[feature].rolling(window=window2).mean()"
      ]
    },
    {
      "cell_type": "code",
      "execution_count": 87,
      "metadata": {
        "id": "8QoCARg5whQY"
      },
      "outputs": [],
      "source": [
        "for feature in lag_features:\n",
        "    data[feature+'rolling_std_3']=data[feature].rolling(window=window1).std()\n",
        "    data[feature+'rolling_std_7']=data[feature].rolling(window=window2).std()"
      ]
    },
    {
      "cell_type": "code",
      "execution_count": 88,
      "metadata": {
        "id": "72DVZXtRwhQY",
        "outputId": "e251a4c4-24db-471c-80c6-5861c8c52668"
      },
      "outputs": [
        {
          "data": {
            "text/html": [
              "<div>\n",
              "<style scoped>\n",
              "    .dataframe tbody tr th:only-of-type {\n",
              "        vertical-align: middle;\n",
              "    }\n",
              "\n",
              "    .dataframe tbody tr th {\n",
              "        vertical-align: top;\n",
              "    }\n",
              "\n",
              "    .dataframe thead th {\n",
              "        text-align: right;\n",
              "    }\n",
              "</style>\n",
              "<table border=\"1\" class=\"dataframe\">\n",
              "  <thead>\n",
              "    <tr style=\"text-align: right;\">\n",
              "      <th></th>\n",
              "      <th>Symbol</th>\n",
              "      <th>Series</th>\n",
              "      <th>Prev Close</th>\n",
              "      <th>Open</th>\n",
              "      <th>High</th>\n",
              "      <th>Low</th>\n",
              "      <th>Last</th>\n",
              "      <th>Close</th>\n",
              "      <th>VWAP</th>\n",
              "      <th>Volume</th>\n",
              "      <th>...</th>\n",
              "      <th>Highrolling_std_3</th>\n",
              "      <th>Highrolling_std_7</th>\n",
              "      <th>Lowrolling_std_3</th>\n",
              "      <th>Lowrolling_std_7</th>\n",
              "      <th>Volumerolling_std_3</th>\n",
              "      <th>Volumerolling_std_7</th>\n",
              "      <th>Turnoverrolling_std_3</th>\n",
              "      <th>Turnoverrolling_std_7</th>\n",
              "      <th>Tradesrolling_std_3</th>\n",
              "      <th>Tradesrolling_std_7</th>\n",
              "    </tr>\n",
              "    <tr>\n",
              "      <th>Date</th>\n",
              "      <th></th>\n",
              "      <th></th>\n",
              "      <th></th>\n",
              "      <th></th>\n",
              "      <th></th>\n",
              "      <th></th>\n",
              "      <th></th>\n",
              "      <th></th>\n",
              "      <th></th>\n",
              "      <th></th>\n",
              "      <th></th>\n",
              "      <th></th>\n",
              "      <th></th>\n",
              "      <th></th>\n",
              "      <th></th>\n",
              "      <th></th>\n",
              "      <th></th>\n",
              "      <th></th>\n",
              "      <th></th>\n",
              "      <th></th>\n",
              "      <th></th>\n",
              "    </tr>\n",
              "  </thead>\n",
              "  <tbody>\n",
              "    <tr>\n",
              "      <th>2011-06-01</th>\n",
              "      <td>BAJFINANCE</td>\n",
              "      <td>EQ</td>\n",
              "      <td>616.70</td>\n",
              "      <td>617.00</td>\n",
              "      <td>636.50</td>\n",
              "      <td>616.00</td>\n",
              "      <td>627.00</td>\n",
              "      <td>631.85</td>\n",
              "      <td>627.01</td>\n",
              "      <td>6894</td>\n",
              "      <td>...</td>\n",
              "      <td>NaN</td>\n",
              "      <td>NaN</td>\n",
              "      <td>NaN</td>\n",
              "      <td>NaN</td>\n",
              "      <td>NaN</td>\n",
              "      <td>NaN</td>\n",
              "      <td>NaN</td>\n",
              "      <td>NaN</td>\n",
              "      <td>NaN</td>\n",
              "      <td>NaN</td>\n",
              "    </tr>\n",
              "    <tr>\n",
              "      <th>2011-06-02</th>\n",
              "      <td>BAJFINANCE</td>\n",
              "      <td>EQ</td>\n",
              "      <td>631.85</td>\n",
              "      <td>625.00</td>\n",
              "      <td>638.90</td>\n",
              "      <td>620.00</td>\n",
              "      <td>634.00</td>\n",
              "      <td>633.45</td>\n",
              "      <td>636.04</td>\n",
              "      <td>2769</td>\n",
              "      <td>...</td>\n",
              "      <td>NaN</td>\n",
              "      <td>NaN</td>\n",
              "      <td>NaN</td>\n",
              "      <td>NaN</td>\n",
              "      <td>NaN</td>\n",
              "      <td>NaN</td>\n",
              "      <td>NaN</td>\n",
              "      <td>NaN</td>\n",
              "      <td>NaN</td>\n",
              "      <td>NaN</td>\n",
              "    </tr>\n",
              "    <tr>\n",
              "      <th>2011-06-03</th>\n",
              "      <td>BAJFINANCE</td>\n",
              "      <td>EQ</td>\n",
              "      <td>633.45</td>\n",
              "      <td>625.15</td>\n",
              "      <td>637.80</td>\n",
              "      <td>620.00</td>\n",
              "      <td>623.00</td>\n",
              "      <td>625.00</td>\n",
              "      <td>625.09</td>\n",
              "      <td>51427</td>\n",
              "      <td>...</td>\n",
              "      <td>1.201388</td>\n",
              "      <td>NaN</td>\n",
              "      <td>2.309401</td>\n",
              "      <td>NaN</td>\n",
              "      <td>26980.871860</td>\n",
              "      <td>NaN</td>\n",
              "      <td>1.685217e+12</td>\n",
              "      <td>NaN</td>\n",
              "      <td>670.500559</td>\n",
              "      <td>NaN</td>\n",
              "    </tr>\n",
              "    <tr>\n",
              "      <th>2011-06-06</th>\n",
              "      <td>BAJFINANCE</td>\n",
              "      <td>EQ</td>\n",
              "      <td>625.00</td>\n",
              "      <td>620.00</td>\n",
              "      <td>641.00</td>\n",
              "      <td>611.35</td>\n",
              "      <td>611.35</td>\n",
              "      <td>614.00</td>\n",
              "      <td>616.03</td>\n",
              "      <td>5446</td>\n",
              "      <td>...</td>\n",
              "      <td>1.625833</td>\n",
              "      <td>NaN</td>\n",
              "      <td>4.994080</td>\n",
              "      <td>NaN</td>\n",
              "      <td>27352.695339</td>\n",
              "      <td>NaN</td>\n",
              "      <td>1.710136e+12</td>\n",
              "      <td>NaN</td>\n",
              "      <td>148.769396</td>\n",
              "      <td>NaN</td>\n",
              "    </tr>\n",
              "    <tr>\n",
              "      <th>2011-06-07</th>\n",
              "      <td>BAJFINANCE</td>\n",
              "      <td>EQ</td>\n",
              "      <td>614.00</td>\n",
              "      <td>604.00</td>\n",
              "      <td>623.95</td>\n",
              "      <td>604.00</td>\n",
              "      <td>619.90</td>\n",
              "      <td>619.15</td>\n",
              "      <td>617.73</td>\n",
              "      <td>5991</td>\n",
              "      <td>...</td>\n",
              "      <td>9.062422</td>\n",
              "      <td>NaN</td>\n",
              "      <td>8.008797</td>\n",
              "      <td>NaN</td>\n",
              "      <td>26391.221653</td>\n",
              "      <td>NaN</td>\n",
              "      <td>1.652377e+12</td>\n",
              "      <td>NaN</td>\n",
              "      <td>78.270897</td>\n",
              "      <td>NaN</td>\n",
              "    </tr>\n",
              "  </tbody>\n",
              "</table>\n",
              "<p>5 rows × 34 columns</p>\n",
              "</div>"
            ],
            "text/plain": [
              "                Symbol Series  Prev Close    Open    High     Low    Last  \\\n",
              "Date                                                                        \n",
              "2011-06-01  BAJFINANCE     EQ      616.70  617.00  636.50  616.00  627.00   \n",
              "2011-06-02  BAJFINANCE     EQ      631.85  625.00  638.90  620.00  634.00   \n",
              "2011-06-03  BAJFINANCE     EQ      633.45  625.15  637.80  620.00  623.00   \n",
              "2011-06-06  BAJFINANCE     EQ      625.00  620.00  641.00  611.35  611.35   \n",
              "2011-06-07  BAJFINANCE     EQ      614.00  604.00  623.95  604.00  619.90   \n",
              "\n",
              "             Close    VWAP  Volume  ...  Highrolling_std_3  Highrolling_std_7  \\\n",
              "Date                                ...                                         \n",
              "2011-06-01  631.85  627.01    6894  ...                NaN                NaN   \n",
              "2011-06-02  633.45  636.04    2769  ...                NaN                NaN   \n",
              "2011-06-03  625.00  625.09   51427  ...           1.201388                NaN   \n",
              "2011-06-06  614.00  616.03    5446  ...           1.625833                NaN   \n",
              "2011-06-07  619.15  617.73    5991  ...           9.062422                NaN   \n",
              "\n",
              "            Lowrolling_std_3  Lowrolling_std_7  Volumerolling_std_3  \\\n",
              "Date                                                                  \n",
              "2011-06-01               NaN               NaN                  NaN   \n",
              "2011-06-02               NaN               NaN                  NaN   \n",
              "2011-06-03          2.309401               NaN         26980.871860   \n",
              "2011-06-06          4.994080               NaN         27352.695339   \n",
              "2011-06-07          8.008797               NaN         26391.221653   \n",
              "\n",
              "            Volumerolling_std_7  Turnoverrolling_std_3  Turnoverrolling_std_7  \\\n",
              "Date                                                                            \n",
              "2011-06-01                  NaN                    NaN                    NaN   \n",
              "2011-06-02                  NaN                    NaN                    NaN   \n",
              "2011-06-03                  NaN           1.685217e+12                    NaN   \n",
              "2011-06-06                  NaN           1.710136e+12                    NaN   \n",
              "2011-06-07                  NaN           1.652377e+12                    NaN   \n",
              "\n",
              "            Tradesrolling_std_3  Tradesrolling_std_7  \n",
              "Date                                                  \n",
              "2011-06-01                  NaN                  NaN  \n",
              "2011-06-02                  NaN                  NaN  \n",
              "2011-06-03           670.500559                  NaN  \n",
              "2011-06-06           148.769396                  NaN  \n",
              "2011-06-07            78.270897                  NaN  \n",
              "\n",
              "[5 rows x 34 columns]"
            ]
          },
          "execution_count": 88,
          "metadata": {},
          "output_type": "execute_result"
        }
      ],
      "source": [
        "data.head()"
      ]
    },
    {
      "cell_type": "code",
      "execution_count": 89,
      "metadata": {
        "id": "-BXihri0whQY",
        "outputId": "502aea86-d3ef-43fc-d1cf-e99ba1254d80"
      },
      "outputs": [
        {
          "data": {
            "text/plain": [
              "Index(['Symbol', 'Series', 'Prev Close', 'Open', 'High', 'Low', 'Last',\n",
              "       'Close', 'VWAP', 'Volume', 'Turnover', 'Trades', 'Deliverable Volume',\n",
              "       '%Deliverble', 'Highrolling_mean_3', 'Highrolling_mean_7',\n",
              "       'Lowrolling_mean_3', 'Lowrolling_mean_7', 'Volumerolling_mean_3',\n",
              "       'Volumerolling_mean_7', 'Turnoverrolling_mean_3',\n",
              "       'Turnoverrolling_mean_7', 'Tradesrolling_mean_3',\n",
              "       'Tradesrolling_mean_7', 'Highrolling_std_3', 'Highrolling_std_7',\n",
              "       'Lowrolling_std_3', 'Lowrolling_std_7', 'Volumerolling_std_3',\n",
              "       'Volumerolling_std_7', 'Turnoverrolling_std_3', 'Turnoverrolling_std_7',\n",
              "       'Tradesrolling_std_3', 'Tradesrolling_std_7'],\n",
              "      dtype='object')"
            ]
          },
          "execution_count": 89,
          "metadata": {},
          "output_type": "execute_result"
        }
      ],
      "source": [
        "data.columns"
      ]
    },
    {
      "cell_type": "code",
      "execution_count": 90,
      "metadata": {
        "id": "qxotj-bfwhQY",
        "outputId": "25566dd8-dbe1-4b6c-bcd7-791cd2a9ce36"
      },
      "outputs": [
        {
          "data": {
            "text/plain": [
              "(2291, 34)"
            ]
          },
          "execution_count": 90,
          "metadata": {},
          "output_type": "execute_result"
        }
      ],
      "source": [
        "data.shape"
      ]
    },
    {
      "cell_type": "code",
      "execution_count": 91,
      "metadata": {
        "id": "F1cq8ZSPwhQZ",
        "outputId": "456f53bb-56a9-4ef7-ca8c-e1a4c634a3f6"
      },
      "outputs": [
        {
          "data": {
            "text/plain": [
              "Symbol                    0\n",
              "Series                    0\n",
              "Prev Close                0\n",
              "Open                      0\n",
              "High                      0\n",
              "Low                       0\n",
              "Last                      0\n",
              "Close                     0\n",
              "VWAP                      0\n",
              "Volume                    0\n",
              "Turnover                  0\n",
              "Trades                    0\n",
              "Deliverable Volume        0\n",
              "%Deliverble               0\n",
              "Highrolling_mean_3        2\n",
              "Highrolling_mean_7        6\n",
              "Lowrolling_mean_3         2\n",
              "Lowrolling_mean_7         6\n",
              "Volumerolling_mean_3      2\n",
              "Volumerolling_mean_7      6\n",
              "Turnoverrolling_mean_3    2\n",
              "Turnoverrolling_mean_7    6\n",
              "Tradesrolling_mean_3      2\n",
              "Tradesrolling_mean_7      6\n",
              "Highrolling_std_3         2\n",
              "Highrolling_std_7         6\n",
              "Lowrolling_std_3          2\n",
              "Lowrolling_std_7          6\n",
              "Volumerolling_std_3       2\n",
              "Volumerolling_std_7       6\n",
              "Turnoverrolling_std_3     2\n",
              "Turnoverrolling_std_7     6\n",
              "Tradesrolling_std_3       2\n",
              "Tradesrolling_std_7       6\n",
              "dtype: int64"
            ]
          },
          "execution_count": 91,
          "metadata": {},
          "output_type": "execute_result"
        }
      ],
      "source": [
        "data.isna().sum()"
      ]
    },
    {
      "cell_type": "code",
      "execution_count": 92,
      "metadata": {
        "id": "ERFq8ASswhQZ"
      },
      "outputs": [],
      "source": [
        "data.dropna(inplace=True)"
      ]
    },
    {
      "cell_type": "code",
      "execution_count": 93,
      "metadata": {
        "id": "ECHUc4xBwhQZ",
        "outputId": "b2b47934-cf3f-4a32-b1ef-ada82c7a7a51"
      },
      "outputs": [
        {
          "data": {
            "text/plain": [
              "Index(['Symbol', 'Series', 'Prev Close', 'Open', 'High', 'Low', 'Last',\n",
              "       'Close', 'VWAP', 'Volume', 'Turnover', 'Trades', 'Deliverable Volume',\n",
              "       '%Deliverble', 'Highrolling_mean_3', 'Highrolling_mean_7',\n",
              "       'Lowrolling_mean_3', 'Lowrolling_mean_7', 'Volumerolling_mean_3',\n",
              "       'Volumerolling_mean_7', 'Turnoverrolling_mean_3',\n",
              "       'Turnoverrolling_mean_7', 'Tradesrolling_mean_3',\n",
              "       'Tradesrolling_mean_7', 'Highrolling_std_3', 'Highrolling_std_7',\n",
              "       'Lowrolling_std_3', 'Lowrolling_std_7', 'Volumerolling_std_3',\n",
              "       'Volumerolling_std_7', 'Turnoverrolling_std_3', 'Turnoverrolling_std_7',\n",
              "       'Tradesrolling_std_3', 'Tradesrolling_std_7'],\n",
              "      dtype='object')"
            ]
          },
          "execution_count": 93,
          "metadata": {},
          "output_type": "execute_result"
        }
      ],
      "source": [
        "data.columns"
      ]
    },
    {
      "cell_type": "code",
      "execution_count": 94,
      "metadata": {
        "id": "CLS1Gz9TwhQZ"
      },
      "outputs": [],
      "source": [
        "ind_features=['Highrolling_mean_3', 'Highrolling_mean_7',\n",
        "       'Lowrolling_mean_3', 'Lowrolling_mean_7', 'Volumerolling_mean_3',\n",
        "       'Volumerolling_mean_7', 'Turnoverrolling_mean_3',\n",
        "       'Turnoverrolling_mean_7', 'Tradesrolling_mean_3',\n",
        "       'Tradesrolling_mean_7', 'Highrolling_std_3', 'Highrolling_std_7',\n",
        "       'Lowrolling_std_3', 'Lowrolling_std_7', 'Volumerolling_std_3',\n",
        "       'Volumerolling_std_7', 'Turnoverrolling_std_3', 'Turnoverrolling_std_7',\n",
        "       'Tradesrolling_std_3', 'Tradesrolling_std_7']"
      ]
    },
    {
      "cell_type": "code",
      "execution_count": 95,
      "metadata": {
        "id": "UktJo75BwhQZ"
      },
      "outputs": [],
      "source": [
        "training_data=data[0:1800]\n",
        "test_data=data[1800:]"
      ]
    },
    {
      "cell_type": "code",
      "execution_count": 96,
      "metadata": {
        "id": "74fC93t9whQZ",
        "outputId": "2bbefc14-d42c-4561-d4b2-651cc69e8206"
      },
      "outputs": [
        {
          "data": {
            "text/html": [
              "<div>\n",
              "<style scoped>\n",
              "    .dataframe tbody tr th:only-of-type {\n",
              "        vertical-align: middle;\n",
              "    }\n",
              "\n",
              "    .dataframe tbody tr th {\n",
              "        vertical-align: top;\n",
              "    }\n",
              "\n",
              "    .dataframe thead th {\n",
              "        text-align: right;\n",
              "    }\n",
              "</style>\n",
              "<table border=\"1\" class=\"dataframe\">\n",
              "  <thead>\n",
              "    <tr style=\"text-align: right;\">\n",
              "      <th></th>\n",
              "      <th>Symbol</th>\n",
              "      <th>Series</th>\n",
              "      <th>Prev Close</th>\n",
              "      <th>Open</th>\n",
              "      <th>High</th>\n",
              "      <th>Low</th>\n",
              "      <th>Last</th>\n",
              "      <th>Close</th>\n",
              "      <th>VWAP</th>\n",
              "      <th>Volume</th>\n",
              "      <th>...</th>\n",
              "      <th>Highrolling_std_3</th>\n",
              "      <th>Highrolling_std_7</th>\n",
              "      <th>Lowrolling_std_3</th>\n",
              "      <th>Lowrolling_std_7</th>\n",
              "      <th>Volumerolling_std_3</th>\n",
              "      <th>Volumerolling_std_7</th>\n",
              "      <th>Turnoverrolling_std_3</th>\n",
              "      <th>Turnoverrolling_std_7</th>\n",
              "      <th>Tradesrolling_std_3</th>\n",
              "      <th>Tradesrolling_std_7</th>\n",
              "    </tr>\n",
              "    <tr>\n",
              "      <th>Date</th>\n",
              "      <th></th>\n",
              "      <th></th>\n",
              "      <th></th>\n",
              "      <th></th>\n",
              "      <th></th>\n",
              "      <th></th>\n",
              "      <th></th>\n",
              "      <th></th>\n",
              "      <th></th>\n",
              "      <th></th>\n",
              "      <th></th>\n",
              "      <th></th>\n",
              "      <th></th>\n",
              "      <th></th>\n",
              "      <th></th>\n",
              "      <th></th>\n",
              "      <th></th>\n",
              "      <th></th>\n",
              "      <th></th>\n",
              "      <th></th>\n",
              "      <th></th>\n",
              "    </tr>\n",
              "  </thead>\n",
              "  <tbody>\n",
              "    <tr>\n",
              "      <th>2011-06-09</th>\n",
              "      <td>BAJFINANCE</td>\n",
              "      <td>EQ</td>\n",
              "      <td>635.60</td>\n",
              "      <td>639.80</td>\n",
              "      <td>647.00</td>\n",
              "      <td>630.00</td>\n",
              "      <td>630.00</td>\n",
              "      <td>631.10</td>\n",
              "      <td>638.27</td>\n",
              "      <td>31252</td>\n",
              "      <td>...</td>\n",
              "      <td>12.769789</td>\n",
              "      <td>7.494911</td>\n",
              "      <td>15.011107</td>\n",
              "      <td>9.410145</td>\n",
              "      <td>13497.047986</td>\n",
              "      <td>18373.894011</td>\n",
              "      <td>8.665128e+11</td>\n",
              "      <td>1.155773e+12</td>\n",
              "      <td>354.841279</td>\n",
              "      <td>463.942320</td>\n",
              "    </tr>\n",
              "    <tr>\n",
              "      <th>2011-06-10</th>\n",
              "      <td>BAJFINANCE</td>\n",
              "      <td>EQ</td>\n",
              "      <td>631.10</td>\n",
              "      <td>641.85</td>\n",
              "      <td>648.25</td>\n",
              "      <td>618.55</td>\n",
              "      <td>621.10</td>\n",
              "      <td>622.20</td>\n",
              "      <td>634.16</td>\n",
              "      <td>30885</td>\n",
              "      <td>...</td>\n",
              "      <td>1.639360</td>\n",
              "      <td>8.227994</td>\n",
              "      <td>13.030765</td>\n",
              "      <td>9.501961</td>\n",
              "      <td>2434.970705</td>\n",
              "      <td>18047.331029</td>\n",
              "      <td>1.579562e+11</td>\n",
              "      <td>1.136003e+12</td>\n",
              "      <td>272.875429</td>\n",
              "      <td>448.020620</td>\n",
              "    </tr>\n",
              "    <tr>\n",
              "      <th>2011-06-13</th>\n",
              "      <td>BAJFINANCE</td>\n",
              "      <td>EQ</td>\n",
              "      <td>622.20</td>\n",
              "      <td>616.00</td>\n",
              "      <td>627.85</td>\n",
              "      <td>616.00</td>\n",
              "      <td>622.75</td>\n",
              "      <td>624.95</td>\n",
              "      <td>622.92</td>\n",
              "      <td>3981</td>\n",
              "      <td>...</td>\n",
              "      <td>11.434196</td>\n",
              "      <td>9.497080</td>\n",
              "      <td>7.456597</td>\n",
              "      <td>9.298317</td>\n",
              "      <td>15640.051929</td>\n",
              "      <td>17835.642665</td>\n",
              "      <td>9.982094e+11</td>\n",
              "      <td>1.123423e+12</td>\n",
              "      <td>557.373603</td>\n",
              "      <td>464.778596</td>\n",
              "    </tr>\n",
              "    <tr>\n",
              "      <th>2011-06-14</th>\n",
              "      <td>BAJFINANCE</td>\n",
              "      <td>EQ</td>\n",
              "      <td>624.95</td>\n",
              "      <td>625.00</td>\n",
              "      <td>628.95</td>\n",
              "      <td>619.95</td>\n",
              "      <td>621.20</td>\n",
              "      <td>622.10</td>\n",
              "      <td>625.35</td>\n",
              "      <td>5597</td>\n",
              "      <td>...</td>\n",
              "      <td>11.473593</td>\n",
              "      <td>10.198891</td>\n",
              "      <td>2.002707</td>\n",
              "      <td>9.293713</td>\n",
              "      <td>15088.183102</td>\n",
              "      <td>13139.472184</td>\n",
              "      <td>9.595224e+11</td>\n",
              "      <td>8.397765e+11</td>\n",
              "      <td>656.385050</td>\n",
              "      <td>455.234163</td>\n",
              "    </tr>\n",
              "    <tr>\n",
              "      <th>2011-06-15</th>\n",
              "      <td>BAJFINANCE</td>\n",
              "      <td>EQ</td>\n",
              "      <td>622.10</td>\n",
              "      <td>612.00</td>\n",
              "      <td>623.00</td>\n",
              "      <td>598.10</td>\n",
              "      <td>605.00</td>\n",
              "      <td>601.70</td>\n",
              "      <td>606.90</td>\n",
              "      <td>12590</td>\n",
              "      <td>...</td>\n",
              "      <td>3.165833</td>\n",
              "      <td>11.352292</td>\n",
              "      <td>11.643560</td>\n",
              "      <td>11.262712</td>\n",
              "      <td>4575.812970</td>\n",
              "      <td>12469.137006</td>\n",
              "      <td>2.733211e+11</td>\n",
              "      <td>7.983186e+11</td>\n",
              "      <td>150.639747</td>\n",
              "      <td>436.941971</td>\n",
              "    </tr>\n",
              "    <tr>\n",
              "      <th>...</th>\n",
              "      <td>...</td>\n",
              "      <td>...</td>\n",
              "      <td>...</td>\n",
              "      <td>...</td>\n",
              "      <td>...</td>\n",
              "      <td>...</td>\n",
              "      <td>...</td>\n",
              "      <td>...</td>\n",
              "      <td>...</td>\n",
              "      <td>...</td>\n",
              "      <td>...</td>\n",
              "      <td>...</td>\n",
              "      <td>...</td>\n",
              "      <td>...</td>\n",
              "      <td>...</td>\n",
              "      <td>...</td>\n",
              "      <td>...</td>\n",
              "      <td>...</td>\n",
              "      <td>...</td>\n",
              "      <td>...</td>\n",
              "      <td>...</td>\n",
              "    </tr>\n",
              "    <tr>\n",
              "      <th>2018-09-04</th>\n",
              "      <td>BAJFINANCE</td>\n",
              "      <td>EQ</td>\n",
              "      <td>2724.05</td>\n",
              "      <td>2724.00</td>\n",
              "      <td>2777.65</td>\n",
              "      <td>2683.50</td>\n",
              "      <td>2748.00</td>\n",
              "      <td>2746.30</td>\n",
              "      <td>2726.23</td>\n",
              "      <td>2606992</td>\n",
              "      <td>...</td>\n",
              "      <td>88.954937</td>\n",
              "      <td>79.489416</td>\n",
              "      <td>83.341306</td>\n",
              "      <td>107.041856</td>\n",
              "      <td>696998.737787</td>\n",
              "      <td>642979.884199</td>\n",
              "      <td>1.827289e+14</td>\n",
              "      <td>1.673270e+14</td>\n",
              "      <td>2794.744413</td>\n",
              "      <td>21708.856675</td>\n",
              "    </tr>\n",
              "    <tr>\n",
              "      <th>2018-09-05</th>\n",
              "      <td>BAJFINANCE</td>\n",
              "      <td>EQ</td>\n",
              "      <td>2746.30</td>\n",
              "      <td>2740.15</td>\n",
              "      <td>2764.80</td>\n",
              "      <td>2668.00</td>\n",
              "      <td>2704.45</td>\n",
              "      <td>2716.90</td>\n",
              "      <td>2712.53</td>\n",
              "      <td>1728455</td>\n",
              "      <td>...</td>\n",
              "      <td>63.129081</td>\n",
              "      <td>100.594924</td>\n",
              "      <td>24.113551</td>\n",
              "      <td>119.854378</td>\n",
              "      <td>483305.554092</td>\n",
              "      <td>570427.041296</td>\n",
              "      <td>1.375623e+14</td>\n",
              "      <td>1.467744e+14</td>\n",
              "      <td>21770.352164</td>\n",
              "      <td>17267.163548</td>\n",
              "    </tr>\n",
              "    <tr>\n",
              "      <th>2018-09-06</th>\n",
              "      <td>BAJFINANCE</td>\n",
              "      <td>EQ</td>\n",
              "      <td>2716.90</td>\n",
              "      <td>2729.00</td>\n",
              "      <td>2731.50</td>\n",
              "      <td>2671.40</td>\n",
              "      <td>2672.20</td>\n",
              "      <td>2684.10</td>\n",
              "      <td>2695.89</td>\n",
              "      <td>1147879</td>\n",
              "      <td>...</td>\n",
              "      <td>23.818183</td>\n",
              "      <td>113.135709</td>\n",
              "      <td>8.146779</td>\n",
              "      <td>118.187686</td>\n",
              "      <td>734609.476628</td>\n",
              "      <td>584307.816124</td>\n",
              "      <td>2.020435e+14</td>\n",
              "      <td>1.561692e+14</td>\n",
              "      <td>30923.312263</td>\n",
              "      <td>24013.596897</td>\n",
              "    </tr>\n",
              "    <tr>\n",
              "      <th>2018-09-07</th>\n",
              "      <td>BAJFINANCE</td>\n",
              "      <td>EQ</td>\n",
              "      <td>2684.10</td>\n",
              "      <td>2698.40</td>\n",
              "      <td>2751.40</td>\n",
              "      <td>2672.60</td>\n",
              "      <td>2745.00</td>\n",
              "      <td>2744.20</td>\n",
              "      <td>2716.32</td>\n",
              "      <td>1264436</td>\n",
              "      <td>...</td>\n",
              "      <td>16.755397</td>\n",
              "      <td>106.101111</td>\n",
              "      <td>2.386071</td>\n",
              "      <td>100.988340</td>\n",
              "      <td>307128.544854</td>\n",
              "      <td>599913.723573</td>\n",
              "      <td>8.394860e+13</td>\n",
              "      <td>1.641199e+14</td>\n",
              "      <td>12123.301421</td>\n",
              "      <td>25604.694191</td>\n",
              "    </tr>\n",
              "    <tr>\n",
              "      <th>2018-09-10</th>\n",
              "      <td>BAJFINANCE</td>\n",
              "      <td>EQ</td>\n",
              "      <td>2744.20</td>\n",
              "      <td>2732.00</td>\n",
              "      <td>2738.00</td>\n",
              "      <td>2596.00</td>\n",
              "      <td>2607.60</td>\n",
              "      <td>2615.65</td>\n",
              "      <td>2655.39</td>\n",
              "      <td>1570179</td>\n",
              "      <td>...</td>\n",
              "      <td>10.147413</td>\n",
              "      <td>84.670766</td>\n",
              "      <td>43.882722</td>\n",
              "      <td>74.650851</td>\n",
              "      <td>218098.451125</td>\n",
              "      <td>592650.415369</td>\n",
              "      <td>5.493903e+13</td>\n",
              "      <td>1.647685e+14</td>\n",
              "      <td>15501.359822</td>\n",
              "      <td>25567.783116</td>\n",
              "    </tr>\n",
              "  </tbody>\n",
              "</table>\n",
              "<p>1800 rows × 34 columns</p>\n",
              "</div>"
            ],
            "text/plain": [
              "                Symbol Series  Prev Close     Open     High      Low     Last  \\\n",
              "Date                                                                            \n",
              "2011-06-09  BAJFINANCE     EQ      635.60   639.80   647.00   630.00   630.00   \n",
              "2011-06-10  BAJFINANCE     EQ      631.10   641.85   648.25   618.55   621.10   \n",
              "2011-06-13  BAJFINANCE     EQ      622.20   616.00   627.85   616.00   622.75   \n",
              "2011-06-14  BAJFINANCE     EQ      624.95   625.00   628.95   619.95   621.20   \n",
              "2011-06-15  BAJFINANCE     EQ      622.10   612.00   623.00   598.10   605.00   \n",
              "...                ...    ...         ...      ...      ...      ...      ...   \n",
              "2018-09-04  BAJFINANCE     EQ     2724.05  2724.00  2777.65  2683.50  2748.00   \n",
              "2018-09-05  BAJFINANCE     EQ     2746.30  2740.15  2764.80  2668.00  2704.45   \n",
              "2018-09-06  BAJFINANCE     EQ     2716.90  2729.00  2731.50  2671.40  2672.20   \n",
              "2018-09-07  BAJFINANCE     EQ     2684.10  2698.40  2751.40  2672.60  2745.00   \n",
              "2018-09-10  BAJFINANCE     EQ     2744.20  2732.00  2738.00  2596.00  2607.60   \n",
              "\n",
              "              Close     VWAP   Volume  ...  Highrolling_std_3  \\\n",
              "Date                                   ...                      \n",
              "2011-06-09   631.10   638.27    31252  ...          12.769789   \n",
              "2011-06-10   622.20   634.16    30885  ...           1.639360   \n",
              "2011-06-13   624.95   622.92     3981  ...          11.434196   \n",
              "2011-06-14   622.10   625.35     5597  ...          11.473593   \n",
              "2011-06-15   601.70   606.90    12590  ...           3.165833   \n",
              "...             ...      ...      ...  ...                ...   \n",
              "2018-09-04  2746.30  2726.23  2606992  ...          88.954937   \n",
              "2018-09-05  2716.90  2712.53  1728455  ...          63.129081   \n",
              "2018-09-06  2684.10  2695.89  1147879  ...          23.818183   \n",
              "2018-09-07  2744.20  2716.32  1264436  ...          16.755397   \n",
              "2018-09-10  2615.65  2655.39  1570179  ...          10.147413   \n",
              "\n",
              "            Highrolling_std_7  Lowrolling_std_3  Lowrolling_std_7  \\\n",
              "Date                                                                \n",
              "2011-06-09           7.494911         15.011107          9.410145   \n",
              "2011-06-10           8.227994         13.030765          9.501961   \n",
              "2011-06-13           9.497080          7.456597          9.298317   \n",
              "2011-06-14          10.198891          2.002707          9.293713   \n",
              "2011-06-15          11.352292         11.643560         11.262712   \n",
              "...                       ...               ...               ...   \n",
              "2018-09-04          79.489416         83.341306        107.041856   \n",
              "2018-09-05         100.594924         24.113551        119.854378   \n",
              "2018-09-06         113.135709          8.146779        118.187686   \n",
              "2018-09-07         106.101111          2.386071        100.988340   \n",
              "2018-09-10          84.670766         43.882722         74.650851   \n",
              "\n",
              "            Volumerolling_std_3  Volumerolling_std_7  Turnoverrolling_std_3  \\\n",
              "Date                                                                          \n",
              "2011-06-09         13497.047986         18373.894011           8.665128e+11   \n",
              "2011-06-10          2434.970705         18047.331029           1.579562e+11   \n",
              "2011-06-13         15640.051929         17835.642665           9.982094e+11   \n",
              "2011-06-14         15088.183102         13139.472184           9.595224e+11   \n",
              "2011-06-15          4575.812970         12469.137006           2.733211e+11   \n",
              "...                         ...                  ...                    ...   \n",
              "2018-09-04        696998.737787        642979.884199           1.827289e+14   \n",
              "2018-09-05        483305.554092        570427.041296           1.375623e+14   \n",
              "2018-09-06        734609.476628        584307.816124           2.020435e+14   \n",
              "2018-09-07        307128.544854        599913.723573           8.394860e+13   \n",
              "2018-09-10        218098.451125        592650.415369           5.493903e+13   \n",
              "\n",
              "            Turnoverrolling_std_7  Tradesrolling_std_3  Tradesrolling_std_7  \n",
              "Date                                                                         \n",
              "2011-06-09           1.155773e+12           354.841279           463.942320  \n",
              "2011-06-10           1.136003e+12           272.875429           448.020620  \n",
              "2011-06-13           1.123423e+12           557.373603           464.778596  \n",
              "2011-06-14           8.397765e+11           656.385050           455.234163  \n",
              "2011-06-15           7.983186e+11           150.639747           436.941971  \n",
              "...                           ...                  ...                  ...  \n",
              "2018-09-04           1.673270e+14          2794.744413         21708.856675  \n",
              "2018-09-05           1.467744e+14         21770.352164         17267.163548  \n",
              "2018-09-06           1.561692e+14         30923.312263         24013.596897  \n",
              "2018-09-07           1.641199e+14         12123.301421         25604.694191  \n",
              "2018-09-10           1.647685e+14         15501.359822         25567.783116  \n",
              "\n",
              "[1800 rows x 34 columns]"
            ]
          },
          "execution_count": 96,
          "metadata": {},
          "output_type": "execute_result"
        }
      ],
      "source": [
        "training_data"
      ]
    },
    {
      "cell_type": "code",
      "execution_count": null,
      "metadata": {
        "id": "fcaAe6kcwhQZ"
      },
      "outputs": [],
      "source": []
    },
    {
      "cell_type": "code",
      "execution_count": 97,
      "metadata": {
        "id": "r5Wg4tFlwhQZ",
        "outputId": "e440629b-692e-465c-f093-7a7662ba9ca5"
      },
      "outputs": [
        {
          "name": "stdout",
          "output_type": "stream",
          "text": [
            "Requirement already satisfied: pmdarima in c:\\users\\hoang\\appdata\\local\\packages\\pythonsoftwarefoundation.python.3.10_qbz5n2kfra8p0\\localcache\\local-packages\\python310\\site-packages (2.0.3)\n",
            "Requirement already satisfied: pandas>=0.19 in c:\\users\\hoang\\appdata\\local\\packages\\pythonsoftwarefoundation.python.3.10_qbz5n2kfra8p0\\localcache\\local-packages\\python310\\site-packages (from pmdarima) (1.5.3)\n",
            "Requirement already satisfied: statsmodels>=0.13.2 in c:\\users\\hoang\\appdata\\local\\packages\\pythonsoftwarefoundation.python.3.10_qbz5n2kfra8p0\\localcache\\local-packages\\python310\\site-packages (from pmdarima) (0.13.5)\n",
            "Requirement already satisfied: scikit-learn>=0.22 in c:\\users\\hoang\\appdata\\local\\packages\\pythonsoftwarefoundation.python.3.10_qbz5n2kfra8p0\\localcache\\local-packages\\python310\\site-packages (from pmdarima) (1.2.1)\n",
            "Requirement already satisfied: Cython!=0.29.18,!=0.29.31,>=0.29 in c:\\users\\hoang\\appdata\\local\\packages\\pythonsoftwarefoundation.python.3.10_qbz5n2kfra8p0\\localcache\\local-packages\\python310\\site-packages (from pmdarima) (0.29.33)\n",
            "Requirement already satisfied: scipy>=1.3.2 in c:\\users\\hoang\\appdata\\local\\packages\\pythonsoftwarefoundation.python.3.10_qbz5n2kfra8p0\\localcache\\local-packages\\python310\\site-packages (from pmdarima) (1.10.0)\n",
            "Requirement already satisfied: urllib3 in c:\\users\\hoang\\appdata\\local\\packages\\pythonsoftwarefoundation.python.3.10_qbz5n2kfra8p0\\localcache\\local-packages\\python310\\site-packages (from pmdarima) (1.26.14)\n",
            "Requirement already satisfied: numpy>=1.21.2 in c:\\users\\hoang\\appdata\\local\\packages\\pythonsoftwarefoundation.python.3.10_qbz5n2kfra8p0\\localcache\\local-packages\\python310\\site-packages (from pmdarima) (1.24.1)\n",
            "Requirement already satisfied: setuptools!=50.0.0,>=38.6.0 in c:\\program files\\windowsapps\\pythonsoftwarefoundation.python.3.10_3.10.2800.0_x64__qbz5n2kfra8p0\\lib\\site-packages (from pmdarima) (65.5.0)\n",
            "Requirement already satisfied: joblib>=0.11 in c:\\users\\hoang\\appdata\\local\\packages\\pythonsoftwarefoundation.python.3.10_qbz5n2kfra8p0\\localcache\\local-packages\\python310\\site-packages (from pmdarima) (1.2.0)\n",
            "Requirement already satisfied: pytz>=2020.1 in c:\\users\\hoang\\appdata\\local\\packages\\pythonsoftwarefoundation.python.3.10_qbz5n2kfra8p0\\localcache\\local-packages\\python310\\site-packages (from pandas>=0.19->pmdarima) (2022.7.1)\n",
            "Requirement already satisfied: python-dateutil>=2.8.1 in c:\\users\\hoang\\appdata\\local\\packages\\pythonsoftwarefoundation.python.3.10_qbz5n2kfra8p0\\localcache\\local-packages\\python310\\site-packages (from pandas>=0.19->pmdarima) (2.8.2)\n",
            "Requirement already satisfied: threadpoolctl>=2.0.0 in c:\\users\\hoang\\appdata\\local\\packages\\pythonsoftwarefoundation.python.3.10_qbz5n2kfra8p0\\localcache\\local-packages\\python310\\site-packages (from scikit-learn>=0.22->pmdarima) (3.1.0)\n",
            "Requirement already satisfied: patsy>=0.5.2 in c:\\users\\hoang\\appdata\\local\\packages\\pythonsoftwarefoundation.python.3.10_qbz5n2kfra8p0\\localcache\\local-packages\\python310\\site-packages (from statsmodels>=0.13.2->pmdarima) (0.5.3)\n",
            "Requirement already satisfied: packaging>=21.3 in c:\\users\\hoang\\appdata\\local\\packages\\pythonsoftwarefoundation.python.3.10_qbz5n2kfra8p0\\localcache\\local-packages\\python310\\site-packages (from statsmodels>=0.13.2->pmdarima) (23.0)\n",
            "Requirement already satisfied: six in c:\\users\\hoang\\appdata\\local\\packages\\pythonsoftwarefoundation.python.3.10_qbz5n2kfra8p0\\localcache\\local-packages\\python310\\site-packages (from patsy>=0.5.2->statsmodels>=0.13.2->pmdarima) (1.16.0)\n"
          ]
        }
      ],
      "source": [
        "!pip install pmdarima"
      ]
    },
    {
      "cell_type": "code",
      "execution_count": 98,
      "metadata": {
        "id": "eSD-1NpuwhQZ"
      },
      "outputs": [],
      "source": [
        "from pmdarima import auto_arima"
      ]
    },
    {
      "cell_type": "code",
      "execution_count": 99,
      "metadata": {
        "id": "y_WOr3DxwhQa"
      },
      "outputs": [],
      "source": [
        "import warnings\n",
        "warnings.filterwarnings('ignore')"
      ]
    },
    {
      "cell_type": "code",
      "execution_count": 100,
      "metadata": {
        "id": "zhPjQed2whQa",
        "outputId": "d5c74c3f-3a2f-4b52-fa0c-d63fa9f27bc4"
      },
      "outputs": [
        {
          "name": "stdout",
          "output_type": "stream",
          "text": [
            "Performing stepwise search to minimize aic\n",
            " ARIMA(2,1,2)(0,0,0)[0] intercept   : AIC=inf, Time=1.14 sec\n",
            " ARIMA(0,1,0)(0,0,0)[0] intercept   : AIC=25013.840, Time=0.02 sec\n",
            " ARIMA(1,1,0)(0,0,0)[0] intercept   : AIC=25015.795, Time=0.03 sec\n",
            " ARIMA(0,1,1)(0,0,0)[0] intercept   : AIC=25015.799, Time=0.03 sec\n",
            " ARIMA(0,1,0)(0,0,0)[0]             : AIC=25011.876, Time=0.02 sec\n",
            " ARIMA(1,1,1)(0,0,0)[0] intercept   : AIC=inf, Time=0.58 sec\n",
            "\n",
            "Best model:  ARIMA(0,1,0)(0,0,0)[0]          \n",
            "Total fit time: 1.827 seconds\n"
          ]
        }
      ],
      "source": [
        "model=auto_arima(y=training_data['VWAP'],X=training_data[ind_features],trace=True)"
      ]
    },
    {
      "cell_type": "code",
      "execution_count": 101,
      "metadata": {
        "id": "bv06H_-OwhQa",
        "outputId": "ee1f6f4c-2507-445e-fe5a-bdb0f1a00b13"
      },
      "outputs": [
        {
          "data": {
            "text/html": [
              "<style>#sk-container-id-4 {color: black;background-color: white;}#sk-container-id-4 pre{padding: 0;}#sk-container-id-4 div.sk-toggleable {background-color: white;}#sk-container-id-4 label.sk-toggleable__label {cursor: pointer;display: block;width: 100%;margin-bottom: 0;padding: 0.3em;box-sizing: border-box;text-align: center;}#sk-container-id-4 label.sk-toggleable__label-arrow:before {content: \"▸\";float: left;margin-right: 0.25em;color: #696969;}#sk-container-id-4 label.sk-toggleable__label-arrow:hover:before {color: black;}#sk-container-id-4 div.sk-estimator:hover label.sk-toggleable__label-arrow:before {color: black;}#sk-container-id-4 div.sk-toggleable__content {max-height: 0;max-width: 0;overflow: hidden;text-align: left;background-color: #f0f8ff;}#sk-container-id-4 div.sk-toggleable__content pre {margin: 0.2em;color: black;border-radius: 0.25em;background-color: #f0f8ff;}#sk-container-id-4 input.sk-toggleable__control:checked~div.sk-toggleable__content {max-height: 200px;max-width: 100%;overflow: auto;}#sk-container-id-4 input.sk-toggleable__control:checked~label.sk-toggleable__label-arrow:before {content: \"▾\";}#sk-container-id-4 div.sk-estimator input.sk-toggleable__control:checked~label.sk-toggleable__label {background-color: #d4ebff;}#sk-container-id-4 div.sk-label input.sk-toggleable__control:checked~label.sk-toggleable__label {background-color: #d4ebff;}#sk-container-id-4 input.sk-hidden--visually {border: 0;clip: rect(1px 1px 1px 1px);clip: rect(1px, 1px, 1px, 1px);height: 1px;margin: -1px;overflow: hidden;padding: 0;position: absolute;width: 1px;}#sk-container-id-4 div.sk-estimator {font-family: monospace;background-color: #f0f8ff;border: 1px dotted black;border-radius: 0.25em;box-sizing: border-box;margin-bottom: 0.5em;}#sk-container-id-4 div.sk-estimator:hover {background-color: #d4ebff;}#sk-container-id-4 div.sk-parallel-item::after {content: \"\";width: 100%;border-bottom: 1px solid gray;flex-grow: 1;}#sk-container-id-4 div.sk-label:hover label.sk-toggleable__label {background-color: #d4ebff;}#sk-container-id-4 div.sk-serial::before {content: \"\";position: absolute;border-left: 1px solid gray;box-sizing: border-box;top: 0;bottom: 0;left: 50%;z-index: 0;}#sk-container-id-4 div.sk-serial {display: flex;flex-direction: column;align-items: center;background-color: white;padding-right: 0.2em;padding-left: 0.2em;position: relative;}#sk-container-id-4 div.sk-item {position: relative;z-index: 1;}#sk-container-id-4 div.sk-parallel {display: flex;align-items: stretch;justify-content: center;background-color: white;position: relative;}#sk-container-id-4 div.sk-item::before, #sk-container-id-4 div.sk-parallel-item::before {content: \"\";position: absolute;border-left: 1px solid gray;box-sizing: border-box;top: 0;bottom: 0;left: 50%;z-index: -1;}#sk-container-id-4 div.sk-parallel-item {display: flex;flex-direction: column;z-index: 1;position: relative;background-color: white;}#sk-container-id-4 div.sk-parallel-item:first-child::after {align-self: flex-end;width: 50%;}#sk-container-id-4 div.sk-parallel-item:last-child::after {align-self: flex-start;width: 50%;}#sk-container-id-4 div.sk-parallel-item:only-child::after {width: 0;}#sk-container-id-4 div.sk-dashed-wrapped {border: 1px dashed gray;margin: 0 0.4em 0.5em 0.4em;box-sizing: border-box;padding-bottom: 0.4em;background-color: white;}#sk-container-id-4 div.sk-label label {font-family: monospace;font-weight: bold;display: inline-block;line-height: 1.2em;}#sk-container-id-4 div.sk-label-container {text-align: center;}#sk-container-id-4 div.sk-container {/* jupyter's `normalize.less` sets `[hidden] { display: none; }` but bootstrap.min.css set `[hidden] { display: none !important; }` so we also need the `!important` here to be able to override the default hidden behavior on the sphinx rendered scikit-learn.org. See: https://github.com/scikit-learn/scikit-learn/issues/21755 */display: inline-block !important;position: relative;}#sk-container-id-4 div.sk-text-repr-fallback {display: none;}</style><div id=\"sk-container-id-4\" class=\"sk-top-container\"><div class=\"sk-text-repr-fallback\"><pre> ARIMA(0,1,0)(0,0,0)[0]          </pre><b>In a Jupyter environment, please rerun this cell to show the HTML representation or trust the notebook. <br />On GitHub, the HTML representation is unable to render, please try loading this page with nbviewer.org.</b></div><div class=\"sk-container\" hidden><div class=\"sk-item\"><div class=\"sk-estimator sk-toggleable\"><input class=\"sk-toggleable__control sk-hidden--visually\" id=\"sk-estimator-id-4\" type=\"checkbox\" checked><label for=\"sk-estimator-id-4\" class=\"sk-toggleable__label sk-toggleable__label-arrow\">ARIMA</label><div class=\"sk-toggleable__content\"><pre> ARIMA(0,1,0)(0,0,0)[0]          </pre></div></div></div></div></div>"
            ],
            "text/plain": [
              "ARIMA(order=(0, 1, 0), scoring_args={}, suppress_warnings=True,\n",
              "      with_intercept=False)"
            ]
          },
          "execution_count": 101,
          "metadata": {},
          "output_type": "execute_result"
        }
      ],
      "source": [
        "model.fit(training_data['VWAP'],X= training_data[ind_features])"
      ]
    },
    {
      "cell_type": "code",
      "execution_count": 102,
      "metadata": {
        "id": "aMti5FbCwhQa"
      },
      "outputs": [],
      "source": [
        "forecast=model.predict(n_periods=len(test_data), X=test_data[ind_features])"
      ]
    },
    {
      "cell_type": "code",
      "execution_count": 103,
      "metadata": {
        "id": "eQwkObrMwhQa"
      },
      "outputs": [],
      "source": [
        "test_data['Forecast_ARIMA']=forecast.values"
      ]
    },
    {
      "cell_type": "code",
      "execution_count": 104,
      "metadata": {
        "id": "tdb28PRswhQa",
        "outputId": "f1a78a1f-1783-481e-91b7-a98c9af6a0d0"
      },
      "outputs": [
        {
          "data": {
            "text/plain": [
              "<AxesSubplot: xlabel='Date'>"
            ]
          },
          "execution_count": 104,
          "metadata": {},
          "output_type": "execute_result"
        },
        {
          "data": {
            "image/png": "[encoded data removed]",
            "text/plain": [
              "<Figure size 1400x700 with 1 Axes>"
            ]
          },
          "metadata": {},
          "output_type": "display_data"
        }
      ],
      "source": [
        "test_data[['VWAP','Forecast_ARIMA']].plot(figsize=(14,7))"
      ]
    },
    {
      "cell_type": "markdown",
      "metadata": {
        "id": "mEZoRCWbwhQa"
      },
      "source": [
        "#### The Auto ARIMA model seems to do a fairly good job in predicting the stock price"
      ]
    },
    {
      "cell_type": "code",
      "execution_count": null,
      "metadata": {
        "id": "U4GhMzh3whQa"
      },
      "outputs": [],
      "source": []
    },
    {
      "cell_type": "markdown",
      "metadata": {
        "id": "TLZUXBOrwhQa"
      },
      "source": [
        "#### Checking Accuracy of our model"
      ]
    },
    {
      "cell_type": "code",
      "execution_count": 105,
      "metadata": {
        "id": "7fWLlr6bwhQb"
      },
      "outputs": [],
      "source": [
        "from sklearn.metrics import mean_absolute_error, mean_squared_error"
      ]
    },
    {
      "cell_type": "code",
      "execution_count": 106,
      "metadata": {
        "id": "0W_tsr73whQb",
        "outputId": "d7202b0f-a584-4b71-fe9c-c6f45b90fc6c"
      },
      "outputs": [
        {
          "data": {
            "text/plain": [
              "898.7956980056158"
            ]
          },
          "execution_count": 106,
          "metadata": {},
          "output_type": "execute_result"
        }
      ],
      "source": [
        "np.sqrt(mean_squared_error(test_data['VWAP'],test_data['Forecast_ARIMA']))"
      ]
    },
    {
      "cell_type": "code",
      "execution_count": 107,
      "metadata": {
        "id": "WdZIqYhCwhQb",
        "outputId": "383a44e8-f470-48b0-984b-0f41c674837b"
      },
      "outputs": [
        {
          "data": {
            "text/plain": [
              "711.6934845360825"
            ]
          },
          "execution_count": 107,
          "metadata": {},
          "output_type": "execute_result"
        }
      ],
      "source": [
        "mean_absolute_error(test_data['VWAP'],test_data['Forecast_ARIMA'])"
      ]
    },
    {
      "cell_type": "code",
      "execution_count": null,
      "metadata": {
        "id": "Zpte-vC2whQb"
      },
      "outputs": [],
      "source": []
    },
    {
      "cell_type": "code",
      "execution_count": null,
      "metadata": {
        "id": "SsorCFVhwhQb"
      },
      "outputs": [],
      "source": []
    },
    {
      "cell_type": "code",
      "execution_count": null,
      "metadata": {
        "id": "35ca9xz9whQb"
      },
      "outputs": [],
      "source": []
    },
    {
      "cell_type": "code",
      "execution_count": null,
      "metadata": {
        "id": "BavSvpajwhQb"
      },
      "outputs": [],
      "source": []
    },
    {
      "cell_type": "code",
      "execution_count": null,
      "metadata": {
        "id": "hid_-LRTwhQb"
      },
      "outputs": [],
      "source": []
    },
    {
      "cell_type": "code",
      "execution_count": null,
      "metadata": {
        "id": "MuAAcKbawhQb"
      },
      "outputs": [],
      "source": []
    }
  ],
  "metadata": {
    "colab": {
      "provenance": []
    },
    "kernelspec": {
      "display_name": "Python 3",
      "language": "python",
      "name": "python3"
    },
    "language_info": {
      "codemirror_mode": {
        "name": "ipython",
        "version": 3
      },
      "file_extension": ".py",
      "mimetype": "text/x-python",
      "name": "python",
      "nbconvert_exporter": "python",
      "pygments_lexer": "ipython3",
      "version": "3.10.10"
    }
  },
  "nbformat": 4,
  "nbformat_minor": 0
}
